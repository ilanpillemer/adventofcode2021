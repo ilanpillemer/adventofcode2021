{
 "cells": [
  {
   "cell_type": "code",
   "execution_count": 1,
   "metadata": {},
   "outputs": [],
   "source": [
    "using DelimitedFiles"
   ]
  },
  {
   "cell_type": "code",
   "execution_count": 102,
   "metadata": {},
   "outputs": [
    {
     "data": {
      "text/plain": [
       "500×3 Matrix{Any}:\n",
       " \"822,976\"  \"->\"  \"822,117\"\n",
       " \"387,419\"  \"->\"  \"387,468\"\n",
       " \"659,275\"  \"->\"  \"318,616\"\n",
       " \"535,940\"  \"->\"  \"684,940\"\n",
       " \"294,427\"  \"->\"  \"294,88\"\n",
       " \"568,922\"  \"->\"  \"425,779\"\n",
       " \"99,265\"   \"->\"  \"97,267\"\n",
       " \"534,387\"  \"->\"  \"402,387\"\n",
       " \"958,268\"  \"->\"  \"958,315\"\n",
       " \"234,714\"  \"->\"  \"234,305\"\n",
       " \"507,257\"  \"->\"  \"507,328\"\n",
       " \"455,384\"  \"->\"  \"455,645\"\n",
       " \"483,641\"  \"->\"  \"483,138\"\n",
       " ⋮                \n",
       " \"535,595\"  \"->\"  \"535,633\"\n",
       " \"771,646\"  \"->\"  \"614,489\"\n",
       " \"572,852\"  \"->\"  \"572,718\"\n",
       " \"125,35\"   \"->\"  \"838,748\"\n",
       " \"122,812\"  \"->\"  \"179,812\"\n",
       " \"467,243\"  \"->\"  \"188,243\"\n",
       " \"713,850\"  \"->\"  \"51,188\"\n",
       " \"633,279\"  \"->\"  \"932,578\"\n",
       " \"428,230\"  \"->\"  \"216,18\"\n",
       " \"94,921\"   \"->\"  \"973,42\"\n",
       " \"513,609\"  \"->\"  \"513,507\"\n",
       " \"826,358\"  \"->\"  \"330,854\""
      ]
     },
     "execution_count": 102,
     "metadata": {},
     "output_type": "execute_result"
    }
   ],
   "source": [
    "lines = readdlm(\"sample.txt\")\n",
    "lines = readdlm(\"input.txt\")"
   ]
  },
  {
   "cell_type": "code",
   "execution_count": 109,
   "metadata": {},
   "outputs": [
    {
     "data": {
      "text/plain": [
       "500×4 Matrix{Float64}:\n",
       " 822.0  976.0  822.0  117.0\n",
       " 387.0  419.0  387.0  468.0\n",
       " 659.0  275.0  318.0  616.0\n",
       " 535.0  940.0  684.0  940.0\n",
       " 294.0  427.0  294.0   88.0\n",
       " 568.0  922.0  425.0  779.0\n",
       "  99.0  265.0   97.0  267.0\n",
       " 534.0  387.0  402.0  387.0\n",
       " 958.0  268.0  958.0  315.0\n",
       " 234.0  714.0  234.0  305.0\n",
       " 507.0  257.0  507.0  328.0\n",
       " 455.0  384.0  455.0  645.0\n",
       " 483.0  641.0  483.0  138.0\n",
       "   ⋮                  \n",
       " 535.0  595.0  535.0  633.0\n",
       " 771.0  646.0  614.0  489.0\n",
       " 572.0  852.0  572.0  718.0\n",
       " 125.0   35.0  838.0  748.0\n",
       " 122.0  812.0  179.0  812.0\n",
       " 467.0  243.0  188.0  243.0\n",
       " 713.0  850.0   51.0  188.0\n",
       " 633.0  279.0  932.0  578.0\n",
       " 428.0  230.0  216.0   18.0\n",
       "  94.0  921.0  973.0   42.0\n",
       " 513.0  609.0  513.0  507.0\n",
       " 826.0  358.0  330.0  854.0"
      ]
     },
     "execution_count": 109,
     "metadata": {},
     "output_type": "execute_result"
    }
   ],
   "source": [
    "#sed  's/ -> /,/' sample.txt  > sample2.txt\n",
    "#sed  's/ -> /,/' input.txt  > input2.txt\n",
    "points = readdlm(\"input2.txt\",',')"
   ]
  },
  {
   "cell_type": "code",
   "execution_count": 110,
   "metadata": {},
   "outputs": [],
   "source": [
    "struct P\n",
    "    x::Float64\n",
    "    y::Float64\n",
    "end\n",
    "struct L\n",
    "    a::P\n",
    "    b::P\n",
    "end"
   ]
  },
  {
   "cell_type": "code",
   "execution_count": 111,
   "metadata": {},
   "outputs": [
    {
     "data": {
      "text/plain": [
       "Dict{P, Int64}()"
      ]
     },
     "execution_count": 111,
     "metadata": {},
     "output_type": "execute_result"
    }
   ],
   "source": [
    "d = Dict{L,Int}()\n",
    "g = Dict{P,Int}()"
   ]
  },
  {
   "cell_type": "code",
   "execution_count": 112,
   "metadata": {},
   "outputs": [],
   "source": [
    "for line in eachrow(points)\n",
    "  d[L(P(line[1],line[2]),P(line[3],line[4]))] = 0\n",
    "end"
   ]
  },
  {
   "cell_type": "code",
   "execution_count": 113,
   "metadata": {},
   "outputs": [
    {
     "data": {
      "text/plain": [
       "line_points (generic function with 1 method)"
      ]
     },
     "execution_count": 113,
     "metadata": {},
     "output_type": "execute_result"
    }
   ],
   "source": [
    "\n",
    "function line_points(line)\n",
    "    if line.a.x == line.b.x\n",
    "        for counter in (0:abs(line.a.y-line.b.y))\n",
    "            if line.a.y > line.b.y\n",
    "              p = P(line.a.x, counter+line.b.y)\n",
    "              g[p] = get(g,p,0) + 1\n",
    "            end\n",
    "            if line.a.y < line.b.y\n",
    "              p = P(line.a.x, counter+line.a.y)\n",
    "              g[p] = get(g,p,0) + 1\n",
    "            end            \n",
    "        end\n",
    "    end\n",
    "    \n",
    "    if line.a.y == line.b.y \n",
    "         for counter in (0:abs(line.a.x-line.b.x))\n",
    "            if line.a.x > line.b.x\n",
    "              p = P(counter+line.b.x,line.a.y)\n",
    "              g[p] = get(g,p,0) + 1\n",
    "            end\n",
    "            if line.a.x < line.b.x\n",
    "              p = P(counter+line.a.x,line.a.y)\n",
    "              g[p] = get(g,p,0) + 1\n",
    "            end            \n",
    "        end       \n",
    "    end\n",
    "    if line.a.x < line.b.x\n",
    "       if line.a.y < line.b.y\n",
    "          for counter in (0:line.b.x-line.a.x)  \n",
    "                p = P(counter+line.a.x, counter+line.a.y)\n",
    "                g[p] = get(g,p,0) + 1\n",
    "            end\n",
    "       end\n",
    "       if line.a.y > line.b.y\n",
    "            for counter in (0:line.b.x-line.a.x) \n",
    "                p = P(counter+line.a.x, line.a.y-counter)\n",
    "                g[p] = get(g,p,0) + 1\n",
    "            end\n",
    "       end  \n",
    "    end\n",
    "    if line.a.x > line.b.x\n",
    "       if line.a.y < line.b.y\n",
    "            for counter in (0:line.a.x-line.b.x) \n",
    "                p = P(line.a.x-counter, counter+line.a.y)\n",
    "                g[p] = get(g,p,0) + 1\n",
    "            end\n",
    "       end\n",
    "       if line.a.y > line.b.y\n",
    "            for counter in (0:line.a.x-line.b.x)\n",
    "                p = P(line.a.x-counter, line.a.y-counter)\n",
    "                g[p] = get(g,p,0) + 1\n",
    "            end\n",
    "            \n",
    "       end          \n",
    "    end\n",
    "end\n"
   ]
  },
  {
   "cell_type": "code",
   "execution_count": 115,
   "metadata": {},
   "outputs": [
    {
     "data": {
      "text/plain": [
       "21698"
      ]
     },
     "execution_count": 115,
     "metadata": {},
     "output_type": "execute_result"
    }
   ],
   "source": [
    "g = Dict{P,Int}()\n",
    "for line in keys(d)\n",
    "    line_points(line)\n",
    "end\n",
    "count(x -> x>1,values(g))"
   ]
  },
  {
   "cell_type": "code",
   "execution_count": null,
   "metadata": {},
   "outputs": [],
   "source": []
  },
  {
   "cell_type": "code",
   "execution_count": null,
   "metadata": {},
   "outputs": [],
   "source": []
  }
 ],
 "metadata": {
  "@webio": {
   "lastCommId": null,
   "lastKernelId": null
  },
  "kernelspec": {
   "display_name": "Julia 1.6.1",
   "language": "julia",
   "name": "julia-1.6"
  },
  "language_info": {
   "file_extension": ".jl",
   "mimetype": "application/julia",
   "name": "julia",
   "version": "1.6.4"
  }
 },
 "nbformat": 4,
 "nbformat_minor": 4
}
